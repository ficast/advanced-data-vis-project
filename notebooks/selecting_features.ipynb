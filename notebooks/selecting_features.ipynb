{
 "cells": [
  {
   "cell_type": "code",
   "execution_count": 1,
   "metadata": {},
   "outputs": [],
   "source": [
    "import pandas as pd"
   ]
  },
  {
   "cell_type": "code",
   "execution_count": 5,
   "metadata": {},
   "outputs": [
    {
     "name": "stdout",
     "output_type": "stream",
     "text": [
      "['Dicionário_Microdados_Enem_2015.xlsx', 'Dicionário_Microdados_Enem_2023.xlsx', 'Dicionário_Microdados_Enem_2019.xlsx', 'Dicionário_Microdados_Enem_2018.xlsx', 'Dicionário_Microdados_Enem_2022.xlsx', 'Dicionário_Microdados_Enem_2014.xlsx', 'Dicionário_Microdados_Enem_2017.xlsx', 'Dicionário_Microdados_Enem_2021.xlsx', 'Dicionário_Microdados_Enem_2020.xlsx', 'Dicionário_Microdados_Enem_2016.xlsx']\n"
     ]
    }
   ],
   "source": [
    "#Opens all files in the folder ./project/dicionarios\n",
    "\n",
    "import os\n",
    "\n",
    "# Get all files in the folder ./project/dicionarios\n",
    "files = os.listdir('../project/dicionarios')\n",
    "\n",
    "print(files)"
   ]
  },
  {
   "cell_type": "code",
   "execution_count": 8,
   "metadata": {},
   "outputs": [],
   "source": [
    "import json\n",
    "#convert each file XLSX into a dictionary the more left column is the key and the more right column is the value\n",
    "for file in files:\n",
    "    df = pd.read_excel(f'../project/dicionarios/{file}')\n",
    "    df.head()\n"
   ]
  },
  {
   "cell_type": "code",
   "execution_count": 9,
   "metadata": {},
   "outputs": [
    {
     "data": {
      "text/html": [
       "<div>\n",
       "<style scoped>\n",
       "    .dataframe tbody tr th:only-of-type {\n",
       "        vertical-align: middle;\n",
       "    }\n",
       "\n",
       "    .dataframe tbody tr th {\n",
       "        vertical-align: top;\n",
       "    }\n",
       "\n",
       "    .dataframe thead th {\n",
       "        text-align: right;\n",
       "    }\n",
       "</style>\n",
       "<table border=\"1\" class=\"dataframe\">\n",
       "  <thead>\n",
       "    <tr style=\"text-align: right;\">\n",
       "      <th></th>\n",
       "      <th>DICIONÁRIO DE VARIÁVEIS - ENEM 2016</th>\n",
       "      <th>Unnamed: 1</th>\n",
       "      <th>Unnamed: 2</th>\n",
       "      <th>Unnamed: 3</th>\n",
       "      <th>Unnamed: 4</th>\n",
       "      <th>Unnamed: 5</th>\n",
       "    </tr>\n",
       "  </thead>\n",
       "  <tbody>\n",
       "    <tr>\n",
       "      <th>0</th>\n",
       "      <td>NaN</td>\n",
       "      <td>NaN</td>\n",
       "      <td>NaN</td>\n",
       "      <td>NaN</td>\n",
       "      <td>NaN</td>\n",
       "      <td>NaN</td>\n",
       "    </tr>\n",
       "    <tr>\n",
       "      <th>1</th>\n",
       "      <td>NOME DA VARIÁVEL</td>\n",
       "      <td>Descrição</td>\n",
       "      <td>Variáveis Categóricas</td>\n",
       "      <td>NaN</td>\n",
       "      <td>Tamanho</td>\n",
       "      <td>Tipo</td>\n",
       "    </tr>\n",
       "    <tr>\n",
       "      <th>2</th>\n",
       "      <td>NaN</td>\n",
       "      <td>NaN</td>\n",
       "      <td>Categoria</td>\n",
       "      <td>Descrição</td>\n",
       "      <td>NaN</td>\n",
       "      <td>NaN</td>\n",
       "    </tr>\n",
       "    <tr>\n",
       "      <th>3</th>\n",
       "      <td>DADOS DO PARTICIPANTE</td>\n",
       "      <td>NaN</td>\n",
       "      <td>NaN</td>\n",
       "      <td>NaN</td>\n",
       "      <td>NaN</td>\n",
       "      <td>NaN</td>\n",
       "    </tr>\n",
       "    <tr>\n",
       "      <th>4</th>\n",
       "      <td>NU_INSCRICAO</td>\n",
       "      <td>Número de inscrição1</td>\n",
       "      <td>NaN</td>\n",
       "      <td>NaN</td>\n",
       "      <td>12</td>\n",
       "      <td>Numérica</td>\n",
       "    </tr>\n",
       "  </tbody>\n",
       "</table>\n",
       "</div>"
      ],
      "text/plain": [
       "  DICIONÁRIO DE VARIÁVEIS - ENEM 2016             Unnamed: 1  \\\n",
       "0                                 NaN                    NaN   \n",
       "1                    NOME DA VARIÁVEL              Descrição   \n",
       "2                                 NaN                    NaN   \n",
       "3               DADOS DO PARTICIPANTE                    NaN   \n",
       "4                        NU_INSCRICAO  Número de inscrição1    \n",
       "\n",
       "              Unnamed: 2 Unnamed: 3 Unnamed: 4 Unnamed: 5  \n",
       "0                    NaN        NaN        NaN        NaN  \n",
       "1  Variáveis Categóricas        NaN   Tamanho        Tipo  \n",
       "2              Categoria  Descrição        NaN        NaN  \n",
       "3                    NaN        NaN        NaN        NaN  \n",
       "4                    NaN        NaN         12   Numérica  "
      ]
     },
     "execution_count": 9,
     "metadata": {},
     "output_type": "execute_result"
    }
   ],
   "source": [
    "df.head()"
   ]
  },
  {
   "cell_type": "code",
   "execution_count": null,
   "metadata": {},
   "outputs": [],
   "source": []
  }
 ],
 "metadata": {
  "kernelspec": {
   "display_name": ".venv",
   "language": "python",
   "name": "python3"
  },
  "language_info": {
   "codemirror_mode": {
    "name": "ipython",
    "version": 3
   },
   "file_extension": ".py",
   "mimetype": "text/x-python",
   "name": "python",
   "nbconvert_exporter": "python",
   "pygments_lexer": "ipython3",
   "version": "3.12.6"
  }
 },
 "nbformat": 4,
 "nbformat_minor": 2
}
